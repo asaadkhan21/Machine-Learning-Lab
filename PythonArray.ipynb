{
  "nbformat": 4,
  "nbformat_minor": 0,
  "metadata": {
    "colab": {
      "provenance": [],
      "authorship_tag": "ABX9TyPoJkoDeJfjk3PkanP49N49",
      "include_colab_link": true
    },
    "kernelspec": {
      "name": "python3",
      "display_name": "Python 3"
    },
    "language_info": {
      "name": "python"
    }
  },
  "cells": [
    {
      "cell_type": "markdown",
      "metadata": {
        "id": "view-in-github",
        "colab_type": "text"
      },
      "source": [
        "<a href=\"https://colab.research.google.com/github/asaadkhan21/Machine-Learning-Lab/blob/main/PythonArray.ipynb\" target=\"_parent\"><img src=\"https://colab.research.google.com/assets/colab-badge.svg\" alt=\"Open In Colab\"/></a>"
      ]
    },
    {
      "cell_type": "code",
      "execution_count": 1,
      "metadata": {
        "colab": {
          "base_uri": "https://localhost:8080/"
        },
        "id": "TtStPNm_nJAP",
        "outputId": "08065b9d-a348-4b75-fd15-13f017e242b0"
      },
      "outputs": [
        {
          "output_type": "stream",
          "name": "stdout",
          "text": [
            "15\n"
          ]
        }
      ],
      "source": [
        "#python array sum\n",
        "array=[1,2,3,4,5]\n",
        "sum_of_the_array=sum(array)\n",
        "print(sum_of_the_array)"
      ]
    },
    {
      "cell_type": "code",
      "source": [
        "#python for max element in the list\n",
        "def MaxEle(arr,n):\n",
        "  max=arr[0]\n",
        "  for i in range(1,n):\n",
        "    if max<arr[i]:\n",
        "       max=arr[i]\n",
        "  return max\n",
        "arr=[2,45,6]\n",
        "n=len(arr)\n",
        "print(MaxEle(arr,n))"
      ],
      "metadata": {
        "colab": {
          "base_uri": "https://localhost:8080/"
        },
        "id": "08n8NfURrLVW",
        "outputId": "a2f7fc3a-133d-4c91-c92c-791eccc10c52"
      },
      "execution_count": 2,
      "outputs": [
        {
          "output_type": "stream",
          "name": "stdout",
          "text": [
            "45\n"
          ]
        }
      ]
    }
  ]
}
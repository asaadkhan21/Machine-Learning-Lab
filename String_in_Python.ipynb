{
  "nbformat": 4,
  "nbformat_minor": 0,
  "metadata": {
    "colab": {
      "provenance": [],
      "authorship_tag": "ABX9TyNmxTqmfbnbgC5j6JOPX+OI",
      "include_colab_link": true
    },
    "kernelspec": {
      "name": "python3",
      "display_name": "Python 3"
    },
    "language_info": {
      "name": "python"
    }
  },
  "cells": [
    {
      "cell_type": "markdown",
      "metadata": {
        "id": "view-in-github",
        "colab_type": "text"
      },
      "source": [
        "<a href=\"https://colab.research.google.com/github/asaadkhan21/Machine-Learning-Lab/blob/main/String_in_Python.ipynb\" target=\"_parent\"><img src=\"https://colab.research.google.com/assets/colab-badge.svg\" alt=\"Open In Colab\"/></a>"
      ]
    },
    {
      "cell_type": "code",
      "execution_count": 1,
      "metadata": {
        "colab": {
          "base_uri": "https://localhost:8080/"
        },
        "id": "4M8Ki-lKf-iY",
        "outputId": "0724a325-8337-4d62-cb04-71ff43fdd80b"
      },
      "outputs": [
        {
          "output_type": "stream",
          "name": "stdout",
          "text": [
            "Intorduction to Python\n",
            "Intorduction to Python\n",
            "Intorduction to Python\n",
            "Intorduction to Python\n",
            "Intorduction to Python\n",
            "Intorduction to Python\n",
            "Intorduction to Python\n",
            "Intorduction to Python\n",
            "Intorduction to Python\n",
            "Intorduction to Python\n"
          ]
        }
      ],
      "source": [
        "for i in range(10):\n",
        "  print(\"Intorduction to Python\")"
      ]
    },
    {
      "cell_type": "code",
      "source": [
        "#checking a string is palindrome or not\n",
        "x=\"asa\"\n",
        "w=\"\"\n",
        "for i in x:\n",
        "  w=i+w\n",
        "if(w==x):\n",
        "  print(\"Yes\")\n",
        "else:\n",
        "  print(\"No\")"
      ],
      "metadata": {
        "colab": {
          "base_uri": "https://localhost:8080/"
        },
        "id": "_lE6JEmkgZax",
        "outputId": "e5f547cd-f895-4f47-836b-2834b748d4c1"
      },
      "execution_count": 2,
      "outputs": [
        {
          "output_type": "stream",
          "name": "stdout",
          "text": [
            "Yes\n"
          ]
        }
      ]
    },
    {
      "cell_type": "code",
      "source": [
        "#reverse words in a string\n",
        "string=\"I am still worthy\"\n",
        "words=string.split()\n",
        "reversed_string=\" \".join(reversed(words))\n",
        "print(reversed_string)"
      ],
      "metadata": {
        "colab": {
          "base_uri": "https://localhost:8080/"
        },
        "id": "Ohcv1vDung6Y",
        "outputId": "b0a53b08-7028-41f7-a0a6-b65a8e541712"
      },
      "execution_count": 3,
      "outputs": [
        {
          "output_type": "stream",
          "name": "stdout",
          "text": [
            "worthy still am I\n"
          ]
        }
      ]
    },
    {
      "cell_type": "code",
      "source": [
        "#removing the specific character in a string\n",
        "string1=\"hate and love and and\"\n",
        "removing=string1.replace('a','',3)\n",
        "print(removing)"
      ],
      "metadata": {
        "colab": {
          "base_uri": "https://localhost:8080/"
        },
        "id": "X8aXaljbwq38",
        "outputId": "572b3dd3-db4d-4289-ff96-e15252f33211"
      },
      "execution_count": 4,
      "outputs": [
        {
          "output_type": "stream",
          "name": "stdout",
          "text": [
            "hte nd love nd and\n"
          ]
        }
      ]
    },
    {
      "cell_type": "code",
      "source": [
        "#checking a word is present in a string or not\n",
        "string2=\"I hate Programming but sometimes, I love programming\"\n",
        "if \"love\" in string2:\n",
        "  print(\"Yes\")\n",
        "else:\n",
        "  print(\"No\")\n",
        "#counting the number words in a string\n",
        "count=1\n",
        "for i in string2:\n",
        "  if(i==' '):\n",
        "    count=count+1\n",
        "print(count)\n",
        "print(string2.count(' ')+1)\n",
        "print(len(string2))"
      ],
      "metadata": {
        "colab": {
          "base_uri": "https://localhost:8080/"
        },
        "id": "w6yYrahAx3pu",
        "outputId": "90dc6fd2-4d91-46bc-eeef-49f77fb35c8c"
      },
      "execution_count": 5,
      "outputs": [
        {
          "output_type": "stream",
          "name": "stdout",
          "text": [
            "Yes\n",
            "8\n",
            "8\n",
            "52\n"
          ]
        }
      ]
    },
    {
      "cell_type": "code",
      "source": [
        "sting=\"Thor\"\n",
        "print(len(sting))"
      ],
      "metadata": {
        "colab": {
          "base_uri": "https://localhost:8080/"
        },
        "id": "4rJCBLAe169D",
        "outputId": "907be09e-f8a7-4d5b-cd04-b6be179e72ed"
      },
      "execution_count": 6,
      "outputs": [
        {
          "output_type": "stream",
          "name": "stdout",
          "text": [
            "4\n"
          ]
        }
      ]
    },
    {
      "cell_type": "code",
      "source": [
        "#words frequency in a string\n",
        "string3=\"Geeks for Geeks\"\n",
        "#using counter and split functions\n",
        "from collections import Counter\n",
        "resulted_string=Counter(string3.split())\n",
        "print(resulted_string)\n",
        "print(max(resulted_string))\n",
        "print(min(resulted_string))"
      ],
      "metadata": {
        "colab": {
          "base_uri": "https://localhost:8080/"
        },
        "id": "tKoruWL-zPGh",
        "outputId": "42ba004d-98c6-46c2-bce7-b819d28876e4"
      },
      "execution_count": 7,
      "outputs": [
        {
          "output_type": "stream",
          "name": "stdout",
          "text": [
            "Counter({'Geeks': 2, 'for': 1})\n",
            "for\n",
            "Geeks\n"
          ]
        }
      ]
    },
    {
      "cell_type": "code",
      "source": [
        "#printing the even words in a string\n",
        "string4=\"I am still worthy but you are not\"\n",
        "n=string4.split(\" \")\n",
        "print(n)\n",
        "for i in n:\n",
        "  if len(i)%2==0:\n",
        "    print(i)"
      ],
      "metadata": {
        "colab": {
          "base_uri": "https://localhost:8080/"
        },
        "id": "49fXUZG1-EWc",
        "outputId": "c69e6cc2-5950-4174-d78a-64bc566454e5"
      },
      "execution_count": 8,
      "outputs": [
        {
          "output_type": "stream",
          "name": "stdout",
          "text": [
            "['I', 'am', 'still', 'worthy', 'but', 'you', 'are', 'not']\n",
            "am\n",
            "worthy\n"
          ]
        }
      ]
    },
    {
      "cell_type": "code",
      "source": [
        "#print the words with length greater than the value of k\n",
        "string5=\"I wanted it but I couldn't reach there\"\n",
        "k=3\n",
        "#spliting the string\n",
        "split_string5=string5.split()\n",
        "print(split_string5)\n",
        "#printing the words with length greater than 3\n",
        "for i in split_string5:\n",
        "  if len(i)>3:\n",
        "    print(i)\n",
        "#joining the splitted string\n",
        "join_string5=' '.join(split_string5)\n",
        "print(join_string5)"
      ],
      "metadata": {
        "colab": {
          "base_uri": "https://localhost:8080/"
        },
        "id": "FR2AV3xpDsvt",
        "outputId": "4e8fb9e6-661a-4e73-9b8b-5333556edf0a"
      },
      "execution_count": 9,
      "outputs": [
        {
          "output_type": "stream",
          "name": "stdout",
          "text": [
            "['I', 'wanted', 'it', 'but', 'I', \"couldn't\", 'reach', 'there']\n",
            "wanted\n",
            "couldn't\n",
            "reach\n",
            "there\n",
            "I wanted it but I couldn't reach there\n"
          ]
        }
      ]
    }
  ]
}
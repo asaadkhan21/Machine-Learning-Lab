{
  "nbformat": 4,
  "nbformat_minor": 0,
  "metadata": {
    "colab": {
      "provenance": [],
      "authorship_tag": "ABX9TyMGRlInka2iw8BmtpArtKAV",
      "include_colab_link": true
    },
    "kernelspec": {
      "name": "python3",
      "display_name": "Python 3"
    },
    "language_info": {
      "name": "python"
    }
  },
  "cells": [
    {
      "cell_type": "markdown",
      "metadata": {
        "id": "view-in-github",
        "colab_type": "text"
      },
      "source": [
        "<a href=\"https://colab.research.google.com/github/asaadkhan21/Machine-Learning-Lab/blob/main/String_in_Python.ipynb\" target=\"_parent\"><img src=\"https://colab.research.google.com/assets/colab-badge.svg\" alt=\"Open In Colab\"/></a>"
      ]
    },
    {
      "cell_type": "code",
      "execution_count": 1,
      "metadata": {
        "colab": {
          "base_uri": "https://localhost:8080/"
        },
        "id": "4M8Ki-lKf-iY",
        "outputId": "afea7a22-2e74-453f-b25a-eda02d64d102"
      },
      "outputs": [
        {
          "output_type": "stream",
          "name": "stdout",
          "text": [
            "Intorduction to List in Python\n",
            "Intorduction to List in Python\n",
            "Intorduction to List in Python\n",
            "Intorduction to List in Python\n",
            "Intorduction to List in Python\n",
            "Intorduction to List in Python\n",
            "Intorduction to List in Python\n",
            "Intorduction to List in Python\n",
            "Intorduction to List in Python\n",
            "Intorduction to List in Python\n"
          ]
        }
      ],
      "source": [
        "for i in range(10):\n",
        "  print(\"Intorduction to List in Python\")"
      ]
    },
    {
      "cell_type": "code",
      "source": [
        "#checking a string is palindrome or not\n",
        "x=\"asa\"\n",
        "w=\"\"\n",
        "for i in x:\n",
        "  w=i+w\n",
        "if(w==x):\n",
        "  print(\"Yes\")\n",
        "else:\n",
        "  print(\"No\")"
      ],
      "metadata": {
        "colab": {
          "base_uri": "https://localhost:8080/"
        },
        "id": "_lE6JEmkgZax",
        "outputId": "c9f10d92-40ec-419b-bf38-4fb0e5c055ad"
      },
      "execution_count": 2,
      "outputs": [
        {
          "output_type": "stream",
          "name": "stdout",
          "text": [
            "Yes\n"
          ]
        }
      ]
    },
    {
      "cell_type": "code",
      "source": [
        "#reverse words in a string\n",
        "string=\"I am still worthy\"\n",
        "words=string.split()\n",
        "reversed_string=\" \".join(reversed(words))\n",
        "print(reversed_string)"
      ],
      "metadata": {
        "colab": {
          "base_uri": "https://localhost:8080/"
        },
        "id": "Ohcv1vDung6Y",
        "outputId": "bd50a8be-7bbd-47b4-8374-f499f0479fab"
      },
      "execution_count": 3,
      "outputs": [
        {
          "output_type": "stream",
          "name": "stdout",
          "text": [
            "worthy still am I\n"
          ]
        }
      ]
    },
    {
      "cell_type": "code",
      "source": [
        "#removing the specific character in a string\n",
        "string1=\"hate and love and and\"\n",
        "removing=string1.replace('a','',3)\n",
        "print(removing)"
      ],
      "metadata": {
        "colab": {
          "base_uri": "https://localhost:8080/"
        },
        "id": "X8aXaljbwq38",
        "outputId": "9a0133c0-e718-4351-b451-0e414ae3a295"
      },
      "execution_count": 4,
      "outputs": [
        {
          "output_type": "stream",
          "name": "stdout",
          "text": [
            "hte nd love nd and\n"
          ]
        }
      ]
    },
    {
      "cell_type": "code",
      "source": [
        "#checking a word is present in a string or not\n",
        "string2=\"I hate Programming but sometimes, I love programming\"\n",
        "if \"love\" in string2:\n",
        "  print(\"Yes\")\n",
        "else:\n",
        "  print(\"No\")\n",
        "#counting the number words in a string\n",
        "count=1\n",
        "for i in string2:\n",
        "  if(i==' '):\n",
        "    count=count+1\n",
        "print(count)\n",
        "print(string2.count(' ')+1)\n",
        "print(len(string2))"
      ],
      "metadata": {
        "colab": {
          "base_uri": "https://localhost:8080/"
        },
        "id": "w6yYrahAx3pu",
        "outputId": "5fe2ad62-49eb-47ef-f31f-ff75890fcb90"
      },
      "execution_count": 5,
      "outputs": [
        {
          "output_type": "stream",
          "name": "stdout",
          "text": [
            "Yes\n",
            "8\n",
            "8\n",
            "52\n"
          ]
        }
      ]
    },
    {
      "cell_type": "code",
      "source": [
        "sting=\"Thor\"\n",
        "print(len(sting))"
      ],
      "metadata": {
        "colab": {
          "base_uri": "https://localhost:8080/"
        },
        "id": "4rJCBLAe169D",
        "outputId": "65caaeb9-f0ee-440e-fdbc-86518ec2b198"
      },
      "execution_count": 6,
      "outputs": [
        {
          "output_type": "stream",
          "name": "stdout",
          "text": [
            "4\n"
          ]
        }
      ]
    },
    {
      "cell_type": "code",
      "source": [
        "#words frequency in a string\n",
        "string3=\"Geeks for Geeks\"\n",
        "#using counter and split functions\n",
        "from collections import Counter\n",
        "resulted_string=Counter(string3.split())\n",
        "print(resulted_string)\n",
        "print(max(resulted_string))\n",
        "print(min(resulted_string))"
      ],
      "metadata": {
        "colab": {
          "base_uri": "https://localhost:8080/"
        },
        "id": "tKoruWL-zPGh",
        "outputId": "43ef9d00-0623-49be-8ea6-133a17382ddb"
      },
      "execution_count": 7,
      "outputs": [
        {
          "output_type": "stream",
          "name": "stdout",
          "text": [
            "Counter({'Geeks': 2, 'for': 1})\n",
            "for\n",
            "Geeks\n"
          ]
        }
      ]
    },
    {
      "cell_type": "code",
      "source": [
        "#printing the even words in a string\n",
        "string4=\"I am still worthy but you are not\"\n",
        "n=string4.split(\" \")\n",
        "print(n)\n",
        "for i in n:\n",
        "  if len(i)%2==0:\n",
        "    print(i)"
      ],
      "metadata": {
        "colab": {
          "base_uri": "https://localhost:8080/"
        },
        "id": "49fXUZG1-EWc",
        "outputId": "ca6e92e8-4f74-4c15-f906-fa73153486db"
      },
      "execution_count": 8,
      "outputs": [
        {
          "output_type": "stream",
          "name": "stdout",
          "text": [
            "['I', 'am', 'still', 'worthy', 'but', 'you', 'are', 'not']\n",
            "am\n",
            "worthy\n"
          ]
        }
      ]
    },
    {
      "cell_type": "code",
      "source": [
        "#print the words with length greater than the value of k\n",
        "string5=\"I wanted it but I couldn't reach there\"\n",
        "k=3\n",
        "#spliting the string\n",
        "split_string5=string5.split()\n",
        "print(split_string5)\n",
        "#printing the words with length greater than 3\n",
        "for i in split_string5:\n",
        "  if len(i)>3:\n",
        "    print(i)\n",
        "#joining the splitted string\n",
        "join_string5=' '.join(split_string5)\n",
        "print(join_string5)"
      ],
      "metadata": {
        "colab": {
          "base_uri": "https://localhost:8080/"
        },
        "id": "FR2AV3xpDsvt",
        "outputId": "376ba5e3-5f34-4b12-c7e7-847b924cfea7"
      },
      "execution_count": 9,
      "outputs": [
        {
          "output_type": "stream",
          "name": "stdout",
          "text": [
            "['I', 'wanted', 'it', 'but', 'I', \"couldn't\", 'reach', 'there']\n",
            "wanted\n",
            "couldn't\n",
            "reach\n",
            "there\n",
            "I wanted it but I couldn't reach there\n"
          ]
        }
      ]
    }
  ]
}
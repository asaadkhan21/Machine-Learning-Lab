{
  "nbformat": 4,
  "nbformat_minor": 0,
  "metadata": {
    "colab": {
      "provenance": [],
      "authorship_tag": "ABX9TyMkQNSQfsEhC8fpoLVuePn9",
      "include_colab_link": true
    },
    "kernelspec": {
      "name": "python3",
      "display_name": "Python 3"
    },
    "language_info": {
      "name": "python"
    }
  },
  "cells": [
    {
      "cell_type": "markdown",
      "metadata": {
        "id": "view-in-github",
        "colab_type": "text"
      },
      "source": [
        "<a href=\"https://colab.research.google.com/github/asaadkhan21/Machine-Learning-Lab/blob/main/Python_Basic.ipynb\" target=\"_parent\"><img src=\"https://colab.research.google.com/assets/colab-badge.svg\" alt=\"Open In Colab\"/></a>"
      ]
    },
    {
      "cell_type": "code",
      "execution_count": 1,
      "metadata": {
        "colab": {
          "base_uri": "https://localhost:8080/"
        },
        "id": "A7VBIq-VNYqg",
        "outputId": "1368b0a7-8e2c-4394-e0cf-47d9b8d2bb11"
      },
      "outputs": [
        {
          "output_type": "stream",
          "name": "stdout",
          "text": [
            "Enter the first number: 5\n",
            "Enter the second number: 6\n",
            "11.00\n"
          ]
        }
      ],
      "source": [
        "#to add two numbers\n",
        "a=input('Enter the first number: ')\n",
        "b=input('Enter the second number: ')\n",
        "z=float(a)+float(b)\n",
        "print(\"{:.2f}\".format(z))"
      ]
    },
    {
      "cell_type": "code",
      "source": [
        "\n",
        "def factorial(n):\n",
        "\t\n",
        "\tres = 1\n",
        "\t\n",
        "\tfor i in range(2, n+1):\n",
        "\t\tres *= i\n",
        "\treturn res\n",
        "num = int(input('Enter a number: '))\n",
        "print(factorial(num))\n",
        "\n",
        "\n",
        "\n",
        "\n"
      ],
      "metadata": {
        "colab": {
          "base_uri": "https://localhost:8080/"
        },
        "id": "8AHm4nWiPHyZ",
        "outputId": "6debdeb6-e2f3-4d63-b739-619585444969"
      },
      "execution_count": 2,
      "outputs": [
        {
          "output_type": "stream",
          "name": "stdout",
          "text": [
            "Enter a number: 5\n",
            "120\n"
          ]
        }
      ]
    },
    {
      "cell_type": "code",
      "source": [
        "#area of a circle\n",
        "def FindArea(r):\n",
        "  PI=3.142\n",
        "  return(PI*r*r)\n",
        "print(FindArea(5))"
      ],
      "metadata": {
        "colab": {
          "base_uri": "https://localhost:8080/"
        },
        "id": "8GYxB6SjT5Tj",
        "outputId": "4396fef9-33b6-4e7c-92b3-54b852f5cfe0"
      },
      "execution_count": 3,
      "outputs": [
        {
          "output_type": "stream",
          "name": "stdout",
          "text": [
            "78.55\n"
          ]
        }
      ]
    },
    {
      "cell_type": "code",
      "source": [
        "# Python program to print all\n",
        "# prime number in an interval\n",
        "\n",
        "def prime(x, y):\n",
        "\tprime_list = []\n",
        "\tfor i in range(x, y):\n",
        "\t\tif i == 0 or i == 1:\n",
        "\t\t\tcontinue\n",
        "\t\telse:\n",
        "\t\t\tfor j in range(2, int(i/2)+1):\n",
        "\t\t\t\tif i % j == 0:\n",
        "\t\t\t\t\tbreak\n",
        "\t\t\telse:\n",
        "\t\t\t\tprime_list.append(i)\n",
        "\treturn prime_list\n",
        "starting_range = 2\n",
        "ending_range = 7\n",
        "lst = prime(starting_range, ending_range)\n",
        "if len(lst) == 0:\n",
        "\tprint(\"There are no prime numbers in this range\")\n",
        "else:\n",
        "\tprint(\"The prime numbers in this range are: \", lst)\n"
      ],
      "metadata": {
        "colab": {
          "base_uri": "https://localhost:8080/"
        },
        "id": "nrAJb4zXUach",
        "outputId": "0e79ed5d-723e-4c19-ea21-ff7c6b71aa82"
      },
      "execution_count": 4,
      "outputs": [
        {
          "output_type": "stream",
          "name": "stdout",
          "text": [
            "The prime numbers in this range are:  [2, 3, 5]\n"
          ]
        }
      ]
    },
    {
      "cell_type": "code",
      "source": [
        "#python to check prime or not\n",
        "n=int(input('Enter a number to check prime or not: '))\n",
        "if n>1:\n",
        "  for i in range(2,int(n/2)+1):\n",
        "    if n%i==0:\n",
        "      print(\"The entered number is not a prime number\")\n",
        "      break\n",
        "  else:\n",
        "      print(\"The number is a prime number\")\n",
        "if n<=1:\n",
        "  print(\"The entered number is not prime number\")"
      ],
      "metadata": {
        "colab": {
          "base_uri": "https://localhost:8080/"
        },
        "id": "4rL_g8xDjy9G",
        "outputId": "05b18fad-7d3c-4a3c-bb64-508dfa358bf2"
      },
      "execution_count": 5,
      "outputs": [
        {
          "output_type": "stream",
          "name": "stdout",
          "text": [
            "Enter a number to check prime or not: 9\n",
            "The entered number is not a prime number\n"
          ]
        }
      ]
    }
  ]
}
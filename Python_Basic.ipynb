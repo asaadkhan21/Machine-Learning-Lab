{
  "nbformat": 4,
  "nbformat_minor": 0,
  "metadata": {
    "colab": {
      "provenance": [],
      "authorship_tag": "ABX9TyPKesTdfh+2BDHjCqoWtLB1",
      "include_colab_link": true
    },
    "kernelspec": {
      "name": "python3",
      "display_name": "Python 3"
    },
    "language_info": {
      "name": "python"
    }
  },
  "cells": [
    {
      "cell_type": "markdown",
      "metadata": {
        "id": "view-in-github",
        "colab_type": "text"
      },
      "source": [
        "<a href=\"https://colab.research.google.com/github/asaadkhan21/Machine-Learning-Lab/blob/main/Python_Basic.ipynb\" target=\"_parent\"><img src=\"https://colab.research.google.com/assets/colab-badge.svg\" alt=\"Open In Colab\"/></a>"
      ]
    },
    {
      "cell_type": "code",
      "execution_count": 1,
      "metadata": {
        "colab": {
          "base_uri": "https://localhost:8080/"
        },
        "id": "A7VBIq-VNYqg",
        "outputId": "b6b58047-92e2-43f7-8c56-f6578fa9a75e"
      },
      "outputs": [
        {
          "output_type": "stream",
          "name": "stdout",
          "text": [
            "Enter the first number: 4\n",
            "Enter the second number: 6\n",
            "10.00\n"
          ]
        }
      ],
      "source": [
        "#to add two numbers\n",
        "a=input('Enter the first number: ')\n",
        "b=input('Enter the second number: ')\n",
        "z=float(a)+float(b)\n",
        "print(\"{:.2f}\".format(z))"
      ]
    },
    {
      "cell_type": "code",
      "source": [
        "\n",
        "def factorial(n):\n",
        "\t\n",
        "\tres = 1\n",
        "\t\n",
        "\tfor i in range(2, n+1):\n",
        "\t\tres *= i\n",
        "\treturn res\n",
        "num = int(input('Enter a number: '))\n",
        "print(factorial(num))\n",
        "\n",
        "\n",
        "\n",
        "\n"
      ],
      "metadata": {
        "colab": {
          "base_uri": "https://localhost:8080/"
        },
        "id": "8AHm4nWiPHyZ",
        "outputId": "e3895566-be58-4b80-b3d6-87ac80543fe2"
      },
      "execution_count": 2,
      "outputs": [
        {
          "output_type": "stream",
          "name": "stdout",
          "text": [
            "Enter a number: 5\n",
            "120\n"
          ]
        }
      ]
    }
  ]
}
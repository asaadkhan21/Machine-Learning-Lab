{
  "nbformat": 4,
  "nbformat_minor": 0,
  "metadata": {
    "colab": {
      "provenance": [],
      "authorship_tag": "ABX9TyPcRDUhtjLQfEi4xWbM5Evf",
      "include_colab_link": true
    },
    "kernelspec": {
      "name": "python3",
      "display_name": "Python 3"
    },
    "language_info": {
      "name": "python"
    }
  },
  "cells": [
    {
      "cell_type": "markdown",
      "metadata": {
        "id": "view-in-github",
        "colab_type": "text"
      },
      "source": [
        "<a href=\"https://colab.research.google.com/github/asaadkhan21/Machine-Learning-Lab/blob/main/Python_Basic.ipynb\" target=\"_parent\"><img src=\"https://colab.research.google.com/assets/colab-badge.svg\" alt=\"Open In Colab\"/></a>"
      ]
    },
    {
      "cell_type": "code",
      "execution_count": 1,
      "metadata": {
        "colab": {
          "base_uri": "https://localhost:8080/"
        },
        "id": "A7VBIq-VNYqg",
        "outputId": "e4a92aa4-9d0d-40f1-b4c9-4ad492673f0e"
      },
      "outputs": [
        {
          "output_type": "stream",
          "name": "stdout",
          "text": [
            "Enter the first number: 5\n",
            "Enter the second number: 6\n",
            "11.00\n"
          ]
        }
      ],
      "source": [
        "#to add two numbers\n",
        "a=input('Enter the first number: ')\n",
        "b=input('Enter the second number: ')\n",
        "z=float(a)+float(b)\n",
        "print(\"{:.2f}\".format(z))"
      ]
    },
    {
      "cell_type": "code",
      "source": [
        "\n",
        "def factorial(n):\n",
        "\t\n",
        "\tres = 1\n",
        "\t\n",
        "\tfor i in range(2, n+1):\n",
        "\t\tres *= i\n",
        "\treturn res\n",
        "num = int(input('Enter a number: '))\n",
        "print(factorial(num))\n",
        "\n",
        "\n",
        "\n",
        "\n"
      ],
      "metadata": {
        "colab": {
          "base_uri": "https://localhost:8080/"
        },
        "id": "8AHm4nWiPHyZ",
        "outputId": "c1747f5f-a91e-4503-ee02-1dff3ae397b3"
      },
      "execution_count": 2,
      "outputs": [
        {
          "output_type": "stream",
          "name": "stdout",
          "text": [
            "Enter a number: 5\n",
            "120\n"
          ]
        }
      ]
    },
    {
      "cell_type": "code",
      "source": [
        "#area of a circle\n",
        "def FindArea(r):\n",
        "  PI=3.142\n",
        "  return(PI*r*r)\n",
        "print(FindArea(5))"
      ],
      "metadata": {
        "colab": {
          "base_uri": "https://localhost:8080/"
        },
        "id": "8GYxB6SjT5Tj",
        "outputId": "f7501e59-be56-44c6-ffe2-9395b602a1ed"
      },
      "execution_count": 3,
      "outputs": [
        {
          "output_type": "stream",
          "name": "stdout",
          "text": [
            "78.55\n"
          ]
        }
      ]
    },
    {
      "cell_type": "code",
      "source": [
        "# Python program to print all\n",
        "# prime number in an interval\n",
        "\n",
        "def prime(x, y):\n",
        "\tprime_list = []\n",
        "\tfor i in range(x, y):\n",
        "\t\tif i == 0 or i == 1:\n",
        "\t\t\tcontinue\n",
        "\t\telse:\n",
        "\t\t\tfor j in range(2, int(i/2)+1):\n",
        "\t\t\t\tif i % j == 0:\n",
        "\t\t\t\t\tbreak\n",
        "\t\t\telse:\n",
        "\t\t\t\tprime_list.append(i)\n",
        "\treturn prime_list\n",
        "starting_range = 2\n",
        "ending_range = 7\n",
        "lst = prime(starting_range, ending_range)\n",
        "if len(lst) == 0:\n",
        "\tprint(\"There are no prime numbers in this range\")\n",
        "else:\n",
        "\tprint(\"The prime numbers in this range are: \", lst)\n"
      ],
      "metadata": {
        "colab": {
          "base_uri": "https://localhost:8080/"
        },
        "id": "nrAJb4zXUach",
        "outputId": "4545369e-a4d4-4733-f897-f5476bbae013"
      },
      "execution_count": 7,
      "outputs": [
        {
          "output_type": "stream",
          "name": "stdout",
          "text": [
            "The prime numbers in this range are:  [2, 3, 5]\n"
          ]
        }
      ]
    }
  ]
}
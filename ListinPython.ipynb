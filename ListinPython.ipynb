{
  "nbformat": 4,
  "nbformat_minor": 0,
  "metadata": {
    "colab": {
      "provenance": [],
      "authorship_tag": "ABX9TyMfYTOkP8AL7Xu69iyPnyM4",
      "include_colab_link": true
    },
    "kernelspec": {
      "name": "python3",
      "display_name": "Python 3"
    },
    "language_info": {
      "name": "python"
    }
  },
  "cells": [
    {
      "cell_type": "markdown",
      "metadata": {
        "id": "view-in-github",
        "colab_type": "text"
      },
      "source": [
        "<a href=\"https://colab.research.google.com/github/asaadkhan21/Machine-Learning-Lab/blob/main/ListinPython.ipynb\" target=\"_parent\"><img src=\"https://colab.research.google.com/assets/colab-badge.svg\" alt=\"Open In Colab\"/></a>"
      ]
    },
    {
      "cell_type": "code",
      "execution_count": 1,
      "metadata": {
        "colab": {
          "base_uri": "https://localhost:8080/"
        },
        "id": "YVTqWzQDm0zo",
        "outputId": "5405fa08-b724-4731-83ff-bdf417a5ed1b"
      },
      "outputs": [
        {
          "output_type": "stream",
          "name": "stdout",
          "text": [
            "Introduction to the Lists\n"
          ]
        }
      ],
      "source": [
        "for i in range(0,1):\n",
        "  print(\"Introduction to the Lists\")"
      ]
    },
    {
      "cell_type": "code",
      "source": [
        "#python program to swap first and last element of the list\n",
        "LIST=[12,32,42,44,52]\n",
        "temp=LIST[0]\n",
        "LIST[0]=LIST[-1]\n",
        "LIST[-1]=temp\n",
        "LIST"
      ],
      "metadata": {
        "id": "BC5se_jiojk1",
        "colab": {
          "base_uri": "https://localhost:8080/"
        },
        "outputId": "a30d57e3-f5ef-4541-e0c5-28c9881f3bc1"
      },
      "execution_count": 2,
      "outputs": [
        {
          "output_type": "execute_result",
          "data": {
            "text/plain": [
              "[52, 32, 42, 44, 12]"
            ]
          },
          "metadata": {},
          "execution_count": 2
        }
      ]
    },
    {
      "cell_type": "code",
      "source": [
        "#python program to add new elements in the list and printing the list and lenght of the list\n",
        "list_second=[ ]\n",
        "for i in range(1,10):\n",
        "  list_second.append(i)\n",
        "  i=i+1\n",
        "print(list_second)\n",
        "counter=0\n",
        "for j in list_second:\n",
        "  counter=counter+1\n",
        "print(counter)\n",
        "#printing the length of list using length function\n",
        "print(len(list_second))"
      ],
      "metadata": {
        "colab": {
          "base_uri": "https://localhost:8080/"
        },
        "id": "hmdFzcENQSTY",
        "outputId": "7a332759-81b5-4e32-f798-1576e5d2361a"
      },
      "execution_count": 3,
      "outputs": [
        {
          "output_type": "stream",
          "name": "stdout",
          "text": [
            "[1, 2, 3, 4, 5, 6, 7, 8, 9]\n",
            "9\n",
            "9\n"
          ]
        }
      ]
    },
    {
      "cell_type": "code",
      "source": [
        "#checking a elment exit or not in a list\n",
        "a=[34,5,6,7,32,34,12,35]\n",
        "i=5\n",
        "if i in a:\n",
        "  print(\"The element exits\")\n",
        "else:\n",
        "  print(\"The elemet doesn't exit\")"
      ],
      "metadata": {
        "id": "uUdeUcHloOG0",
        "colab": {
          "base_uri": "https://localhost:8080/"
        },
        "outputId": "dc6d617e-970f-4ebd-93f5-ee0b65966b16"
      },
      "execution_count": 4,
      "outputs": [
        {
          "output_type": "stream",
          "name": "stdout",
          "text": [
            "The element exits\n"
          ]
        }
      ]
    },
    {
      "cell_type": "code",
      "source": [
        "#clearing the elements in the list\n",
        "b=[12,31,42,423,45]\n",
        "print(b)\n",
        "#deleting the specific element\n",
        "del(b[3])\n",
        "print(b)\n",
        "#removing all the elements using clear function\n",
        "b.clear()\n",
        "print(b)\n",
        "#again adding elements\n",
        "for i in range(2,5):\n",
        "  b.append(i)\n",
        "print(b)\n",
        "#revering the list using the reverse function\n",
        "b.reverse()\n",
        "print(b)\n",
        "#again deleting all the element using del function\n",
        "del b[:]\n",
        "print(b)"
      ],
      "metadata": {
        "colab": {
          "base_uri": "https://localhost:8080/"
        },
        "id": "dCHN_lP-Uzgq",
        "outputId": "8f80ba7c-1002-49d3-8e18-b39ba74f642d"
      },
      "execution_count": 5,
      "outputs": [
        {
          "output_type": "stream",
          "name": "stdout",
          "text": [
            "[12, 31, 42, 423, 45]\n",
            "[12, 31, 42, 45]\n",
            "[]\n",
            "[2, 3, 4]\n",
            "[4, 3, 2]\n",
            "[]\n"
          ]
        }
      ]
    },
    {
      "cell_type": "code",
      "source": [
        "#program to find sum of the element in the list\n",
        "c=[ ]\n",
        "for i in range(1,11):\n",
        "  c.append(i)\n",
        "print(c)\n",
        "total=0\n",
        "for j in c:\n",
        "  total=total+j\n",
        "print(total)\n",
        "#using sum function\n",
        "print(sum(c))"
      ],
      "metadata": {
        "colab": {
          "base_uri": "https://localhost:8080/"
        },
        "id": "pAs5cGc7XsQP",
        "outputId": "309f5498-fd3f-4bfb-de06-b0ea60836879"
      },
      "execution_count": 6,
      "outputs": [
        {
          "output_type": "stream",
          "name": "stdout",
          "text": [
            "[1, 2, 3, 4, 5, 6, 7, 8, 9, 10]\n",
            "55\n",
            "55\n"
          ]
        }
      ]
    },
    {
      "cell_type": "code",
      "source": [
        "#program to multiply the elemets in the list\n",
        "f=[1,2,3,4,5]\n",
        "mul=1\n",
        "for i in f:\n",
        "  mul=mul*i\n",
        "print(mul)\n",
        "#using numpy\n",
        "import numpy as np\n",
        "mul_np=np.prod(f)\n",
        "print(mul_np)"
      ],
      "metadata": {
        "colab": {
          "base_uri": "https://localhost:8080/"
        },
        "id": "H_Xw5B32ZAqf",
        "outputId": "36bbf01e-d971-4336-99ca-db558daaa38f"
      },
      "execution_count": 7,
      "outputs": [
        {
          "output_type": "stream",
          "name": "stdout",
          "text": [
            "120\n",
            "120\n"
          ]
        }
      ]
    },
    {
      "cell_type": "code",
      "source": [
        "#smallest elements in the list\n",
        "g=[2,10,24,53,234,1,23]\n",
        "mini=g[0]\n",
        "for i in g:\n",
        "  if(mini>i):\n",
        "    mini=i\n",
        "print(mini)\n",
        "#using sort function\n",
        "g.sort()\n",
        "print(g[0])"
      ],
      "metadata": {
        "colab": {
          "base_uri": "https://localhost:8080/"
        },
        "id": "fGTfUIQ6abIO",
        "outputId": "ee52bb38-76a6-4127-dc52-dacb38e6d73b"
      },
      "execution_count": 8,
      "outputs": [
        {
          "output_type": "stream",
          "name": "stdout",
          "text": [
            "1\n",
            "1\n"
          ]
        }
      ]
    },
    {
      "cell_type": "code",
      "source": [
        "#finding largest number in the list\n",
        "k=[12,12,42,53,4,23,3]\n",
        "maxi=k[0]\n",
        "for m in k:\n",
        "  if(maxi<=m):\n",
        "    maxi=m\n",
        "print(maxi)\n",
        "print(max(k))\n",
        "k.sort()\n",
        "print(k[-1])"
      ],
      "metadata": {
        "colab": {
          "base_uri": "https://localhost:8080/"
        },
        "id": "0-msWQePmniX",
        "outputId": "644cee18-7e63-4405-9314-43fc8a10f23d"
      },
      "execution_count": 9,
      "outputs": [
        {
          "output_type": "stream",
          "name": "stdout",
          "text": [
            "53\n",
            "53\n",
            "53\n"
          ]
        }
      ]
    },
    {
      "cell_type": "code",
      "source": [
        "#printing even elements in the list\n",
        "t=[22,23,44,13,43,53,66]\n",
        "for i in t:\n",
        "  if(i%2==0):\n",
        "    print(i,end=' ')"
      ],
      "metadata": {
        "colab": {
          "base_uri": "https://localhost:8080/"
        },
        "id": "89bA1t6mnwlo",
        "outputId": "a4415f99-4d10-4421-c191-09175e35acf1"
      },
      "execution_count": 10,
      "outputs": [
        {
          "output_type": "stream",
          "name": "stdout",
          "text": [
            "22 44 66 "
          ]
        }
      ]
    },
    {
      "cell_type": "code",
      "source": [
        "#printing the number of elements in a range\n",
        "start=7\n",
        "end=16\n",
        "for i in range(start,end+1):\n",
        "  if(i%2==0):\n",
        "    print(i,end=' ')"
      ],
      "metadata": {
        "colab": {
          "base_uri": "https://localhost:8080/"
        },
        "id": "aDaVDeU9owO5",
        "outputId": "092aaa87-2360-4728-8cac-70a6c7d774fe"
      },
      "execution_count": 11,
      "outputs": [
        {
          "output_type": "stream",
          "name": "stdout",
          "text": [
            "8 10 12 14 16 "
          ]
        }
      ]
    },
    {
      "cell_type": "code",
      "source": [
        "#printing positive and negative elements in the list\n",
        "u=[-3,4,2,-5,-8,9,34,-44]\n",
        "n=[]\n",
        "k=[]\n",
        "for i in u:\n",
        "  if(i>=0):\n",
        "    n.append(i)\n",
        "  else:\n",
        "    k.append(i)\n",
        "print(n)\n",
        "print(k)"
      ],
      "metadata": {
        "colab": {
          "base_uri": "https://localhost:8080/"
        },
        "id": "fODLAdCnpSC8",
        "outputId": "b466d43d-f3d4-4419-a07c-998737b16c59"
      },
      "execution_count": 12,
      "outputs": [
        {
          "output_type": "stream",
          "name": "stdout",
          "text": [
            "[4, 2, 9, 34]\n",
            "[-3, -5, -8, -44]\n"
          ]
        }
      ]
    },
    {
      "cell_type": "code",
      "source": [
        "#removing the unwanted and specific elements in the list using different functions\n",
        "s=[12,23,43,53,33,4,3,6,8,9]\n",
        "del s[2:6]\n",
        "print(\"The new list is:\")\n",
        "print(s)"
      ],
      "metadata": {
        "colab": {
          "base_uri": "https://localhost:8080/"
        },
        "id": "IqkV9rXhrVLO",
        "outputId": "b6ab3033-0989-46a7-cf9e-f2d5d4697059"
      },
      "execution_count": 13,
      "outputs": [
        {
          "output_type": "stream",
          "name": "stdout",
          "text": [
            "The new list is:\n",
            "[12, 23, 3, 6, 8, 9]\n"
          ]
        }
      ]
    },
    {
      "cell_type": "code",
      "source": [
        "#removing empty list in the list\n",
        "p=[2,3,4,[],5,[],4]\n",
        "j=[]\n",
        "for i in p:\n",
        "  if(i!=[]):\n",
        "    j.append(i)\n",
        "print(p)\n",
        "print(j)"
      ],
      "metadata": {
        "colab": {
          "base_uri": "https://localhost:8080/"
        },
        "id": "Sm9vTorstda-",
        "outputId": "f70b2e99-adcd-406c-aa7b-a5761d73c9fa"
      },
      "execution_count": 14,
      "outputs": [
        {
          "output_type": "stream",
          "name": "stdout",
          "text": [
            "[2, 3, 4, [], 5, [], 4]\n",
            "[2, 3, 4, 5, 4]\n"
          ]
        }
      ]
    },
    {
      "cell_type": "code",
      "source": [
        "#counting the occurence of an element in a list\n",
        "h=[11,11,23,44,232,42,11,11]\n",
        "x=11\n",
        "count=0\n",
        "for i in h:\n",
        "  if(i==x):\n",
        "    count=count+1\n",
        "print(count)"
      ],
      "metadata": {
        "colab": {
          "base_uri": "https://localhost:8080/"
        },
        "id": "MUdrcH9wwNEA",
        "outputId": "3bfd6a99-15b9-4477-ac84-7be9edba8330"
      },
      "execution_count": 15,
      "outputs": [
        {
          "output_type": "stream",
          "name": "stdout",
          "text": [
            "4\n"
          ]
        }
      ]
    },
    {
      "cell_type": "code",
      "source": [
        "#sum of number digits in a list\n",
        "v=[12,13,44,23]\n",
        "result=[]\n",
        "for i in v:\n",
        "  sum=0\n",
        "  for j in str(i):\n",
        "    sum=sum+int(j)\n",
        "  result.append(sum)\n",
        "print(v)\n",
        "print(result)"
      ],
      "metadata": {
        "colab": {
          "base_uri": "https://localhost:8080/"
        },
        "id": "vn7fbvsLxFcw",
        "outputId": "8ed47526-cdff-4151-ca83-cf47ff64ad87"
      },
      "execution_count": 16,
      "outputs": [
        {
          "output_type": "stream",
          "name": "stdout",
          "text": [
            "[12, 13, 44, 23]\n",
            "[3, 4, 8, 5]\n"
          ]
        }
      ]
    }
  ]
}
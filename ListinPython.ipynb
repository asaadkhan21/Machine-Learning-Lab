{
  "nbformat": 4,
  "nbformat_minor": 0,
  "metadata": {
    "colab": {
      "provenance": [],
      "authorship_tag": "ABX9TyMIu5KjZXy/LuOS4Na/U1kG",
      "include_colab_link": true
    },
    "kernelspec": {
      "name": "python3",
      "display_name": "Python 3"
    },
    "language_info": {
      "name": "python"
    }
  },
  "cells": [
    {
      "cell_type": "markdown",
      "metadata": {
        "id": "view-in-github",
        "colab_type": "text"
      },
      "source": [
        "<a href=\"https://colab.research.google.com/github/asaadkhan21/Machine-Learning-Lab/blob/main/ListinPython.ipynb\" target=\"_parent\"><img src=\"https://colab.research.google.com/assets/colab-badge.svg\" alt=\"Open In Colab\"/></a>"
      ]
    },
    {
      "cell_type": "code",
      "execution_count": 1,
      "metadata": {
        "colab": {
          "base_uri": "https://localhost:8080/"
        },
        "id": "YVTqWzQDm0zo",
        "outputId": "e3977bb2-e392-417f-c221-5980d19f7940"
      },
      "outputs": [
        {
          "output_type": "stream",
          "name": "stdout",
          "text": [
            "Introduction to the Lists\n"
          ]
        }
      ],
      "source": [
        "for i in range(0,1):\n",
        "  print(\"Introduction to the Lists\")"
      ]
    },
    {
      "cell_type": "code",
      "source": [
        "#python program to swap first and last element of the list\n",
        "LIST=[12,32,42,44,52]\n",
        "temp=LIST[0]\n",
        "LIST[0]=LIST[-1]\n",
        "LIST[-1]=temp\n",
        "LIST"
      ],
      "metadata": {
        "id": "BC5se_jiojk1",
        "colab": {
          "base_uri": "https://localhost:8080/"
        },
        "outputId": "22952961-915e-483b-9ce9-7e0fc6334bff"
      },
      "execution_count": 2,
      "outputs": [
        {
          "output_type": "execute_result",
          "data": {
            "text/plain": [
              "[52, 32, 42, 44, 12]"
            ]
          },
          "metadata": {},
          "execution_count": 2
        }
      ]
    },
    {
      "cell_type": "code",
      "source": [
        "#python program to add new elements in the list and printing the list and lenght of the list\n",
        "list_second=[ ]\n",
        "for i in range(1,10):\n",
        "  list_second.append(i)\n",
        "  i=i+1\n",
        "print(list_second)\n",
        "counter=0\n",
        "for j in list_second:\n",
        "  counter=counter+1\n",
        "print(counter)\n",
        "#printing the length of list using length function\n",
        "print(len(list_second))"
      ],
      "metadata": {
        "colab": {
          "base_uri": "https://localhost:8080/"
        },
        "id": "hmdFzcENQSTY",
        "outputId": "4d03ae84-514e-4299-d4ee-07d2bce39ba5"
      },
      "execution_count": 3,
      "outputs": [
        {
          "output_type": "stream",
          "name": "stdout",
          "text": [
            "[1, 2, 3, 4, 5, 6, 7, 8, 9]\n",
            "9\n",
            "9\n"
          ]
        }
      ]
    },
    {
      "cell_type": "code",
      "source": [
        "#checking the a elment exit or not in a list\n",
        "a=[34,5,6,7,32,34,12,35]\n",
        "i=5\n",
        "if i in a:\n",
        "  print(\"The element exits\")\n",
        "else:\n",
        "  print(\"The elemet doesn't exit\")"
      ],
      "metadata": {
        "id": "uUdeUcHloOG0",
        "colab": {
          "base_uri": "https://localhost:8080/"
        },
        "outputId": "fb088f62-fa9f-49f1-d8b5-d0abdb79ecc4"
      },
      "execution_count": 4,
      "outputs": [
        {
          "output_type": "stream",
          "name": "stdout",
          "text": [
            "The element exits\n"
          ]
        }
      ]
    },
    {
      "cell_type": "code",
      "source": [
        "#clearing the elements in the list\n",
        "b=[12,31,42,423,45]\n",
        "print(b)\n",
        "#deleting the specific element\n",
        "del(b[3])\n",
        "print(b)\n",
        "#removing all the elements using clear function\n",
        "b.clear()\n",
        "print(b)\n",
        "#again adding elements\n",
        "for i in range(2,5):\n",
        "  b.append(i)\n",
        "print(b)\n",
        "#revering the list using the reverse function\n",
        "b.reverse()\n",
        "print(b)\n",
        "#again deleting all the element using del function\n",
        "del b[:]\n",
        "print(b)"
      ],
      "metadata": {
        "colab": {
          "base_uri": "https://localhost:8080/"
        },
        "id": "dCHN_lP-Uzgq",
        "outputId": "7387ee47-c478-4566-9f05-b0a3d3338324"
      },
      "execution_count": 5,
      "outputs": [
        {
          "output_type": "stream",
          "name": "stdout",
          "text": [
            "[12, 31, 42, 423, 45]\n",
            "[12, 31, 42, 45]\n",
            "[]\n",
            "[2, 3, 4]\n",
            "[4, 3, 2]\n",
            "[]\n"
          ]
        }
      ]
    },
    {
      "cell_type": "code",
      "source": [
        "#program the the sum of the element in the list\n",
        "c=[ ]\n",
        "for i in range(1,11):\n",
        "  c.append(i)\n",
        "print(c)\n",
        "total=0\n",
        "for j in c:\n",
        "  total=total+j\n",
        "print(total)\n",
        "#using sum function\n",
        "print(sum(c))"
      ],
      "metadata": {
        "colab": {
          "base_uri": "https://localhost:8080/"
        },
        "id": "pAs5cGc7XsQP",
        "outputId": "0178e293-d05c-4e7c-f1e0-5c445d3fcb83"
      },
      "execution_count": 6,
      "outputs": [
        {
          "output_type": "stream",
          "name": "stdout",
          "text": [
            "[1, 2, 3, 4, 5, 6, 7, 8, 9, 10]\n",
            "55\n",
            "55\n"
          ]
        }
      ]
    }
  ]
}
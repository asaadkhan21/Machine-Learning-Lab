{
  "nbformat": 4,
  "nbformat_minor": 0,
  "metadata": {
    "colab": {
      "provenance": [],
      "authorship_tag": "ABX9TyNYfAGPJR/DeTMy8Mn+qnKd",
      "include_colab_link": true
    },
    "kernelspec": {
      "name": "python3",
      "display_name": "Python 3"
    },
    "language_info": {
      "name": "python"
    }
  },
  "cells": [
    {
      "cell_type": "markdown",
      "metadata": {
        "id": "view-in-github",
        "colab_type": "text"
      },
      "source": [
        "<a href=\"https://colab.research.google.com/github/asaadkhan21/Machine-Learning-Lab/blob/main/ListinPython.ipynb\" target=\"_parent\"><img src=\"https://colab.research.google.com/assets/colab-badge.svg\" alt=\"Open In Colab\"/></a>"
      ]
    },
    {
      "cell_type": "code",
      "execution_count": 1,
      "metadata": {
        "colab": {
          "base_uri": "https://localhost:8080/"
        },
        "id": "YVTqWzQDm0zo",
        "outputId": "5d9eda1c-3d09-4565-be0f-29eebb416280"
      },
      "outputs": [
        {
          "output_type": "stream",
          "name": "stdout",
          "text": [
            "Introduction to the Lists\n"
          ]
        }
      ],
      "source": [
        "for i in range(0,1):\n",
        "  print(\"Introduction to the Lists\")"
      ]
    },
    {
      "cell_type": "code",
      "source": [
        "#python program to swap first and last element of the list\n",
        "LIST=[12,32,42,44,52]\n",
        "temp=LIST[0]\n",
        "LIST[0]=LIST[-1]\n",
        "LIST[-1]=temp\n",
        "LIST"
      ],
      "metadata": {
        "id": "BC5se_jiojk1",
        "colab": {
          "base_uri": "https://localhost:8080/"
        },
        "outputId": "b33b8045-51fa-47d7-a008-264d3df58179"
      },
      "execution_count": 2,
      "outputs": [
        {
          "output_type": "execute_result",
          "data": {
            "text/plain": [
              "[52, 32, 42, 44, 12]"
            ]
          },
          "metadata": {},
          "execution_count": 2
        }
      ]
    },
    {
      "cell_type": "code",
      "source": [
        "#python program to add new elements in the list and printing the list and lenght of the list\n",
        "list_second=[ ]\n",
        "for i in range(1,10):\n",
        "  list_second.append(i)\n",
        "  i=i+1\n",
        "print(list_second)\n",
        "counter=0\n",
        "for j in list_second:\n",
        "  counter=counter+1\n",
        "print(counter)\n",
        "#printing the length of list using length function\n",
        "print(len(list_second))"
      ],
      "metadata": {
        "colab": {
          "base_uri": "https://localhost:8080/"
        },
        "id": "hmdFzcENQSTY",
        "outputId": "45f3cf1a-963a-4311-de71-bf6bdcbb4908"
      },
      "execution_count": 3,
      "outputs": [
        {
          "output_type": "stream",
          "name": "stdout",
          "text": [
            "[1, 2, 3, 4, 5, 6, 7, 8, 9]\n",
            "9\n",
            "9\n"
          ]
        }
      ]
    },
    {
      "cell_type": "code",
      "source": [
        "#checking a elment exit or not in a list\n",
        "a=[34,5,6,7,32,34,12,35]\n",
        "i=5\n",
        "if i in a:\n",
        "  print(\"The element exits\")\n",
        "else:\n",
        "  print(\"The elemet doesn't exit\")"
      ],
      "metadata": {
        "id": "uUdeUcHloOG0",
        "colab": {
          "base_uri": "https://localhost:8080/"
        },
        "outputId": "9d7505e0-03e1-45bc-ec9a-48411e194fe3"
      },
      "execution_count": 4,
      "outputs": [
        {
          "output_type": "stream",
          "name": "stdout",
          "text": [
            "The element exits\n"
          ]
        }
      ]
    },
    {
      "cell_type": "code",
      "source": [
        "#clearing the elements in the list\n",
        "b=[12,31,42,423,45]\n",
        "print(b)\n",
        "#deleting the specific element\n",
        "del(b[3])\n",
        "print(b)\n",
        "#removing all the elements using clear function\n",
        "b.clear()\n",
        "print(b)\n",
        "#again adding elements\n",
        "for i in range(2,5):\n",
        "  b.append(i)\n",
        "print(b)\n",
        "#revering the list using the reverse function\n",
        "b.reverse()\n",
        "print(b)\n",
        "#again deleting all the element using del function\n",
        "del b[:]\n",
        "print(b)"
      ],
      "metadata": {
        "colab": {
          "base_uri": "https://localhost:8080/"
        },
        "id": "dCHN_lP-Uzgq",
        "outputId": "53d22de2-ec42-4cfc-e8ff-9374e836701d"
      },
      "execution_count": 5,
      "outputs": [
        {
          "output_type": "stream",
          "name": "stdout",
          "text": [
            "[12, 31, 42, 423, 45]\n",
            "[12, 31, 42, 45]\n",
            "[]\n",
            "[2, 3, 4]\n",
            "[4, 3, 2]\n",
            "[]\n"
          ]
        }
      ]
    },
    {
      "cell_type": "code",
      "source": [
        "#program to find sum of the element in the list\n",
        "c=[ ]\n",
        "for i in range(1,11):\n",
        "  c.append(i)\n",
        "print(c)\n",
        "total=0\n",
        "for j in c:\n",
        "  total=total+j\n",
        "print(total)\n",
        "#using sum function\n",
        "print(sum(c))"
      ],
      "metadata": {
        "colab": {
          "base_uri": "https://localhost:8080/"
        },
        "id": "pAs5cGc7XsQP",
        "outputId": "4ff57e21-712d-40e1-9217-368031a5f7e6"
      },
      "execution_count": 6,
      "outputs": [
        {
          "output_type": "stream",
          "name": "stdout",
          "text": [
            "[1, 2, 3, 4, 5, 6, 7, 8, 9, 10]\n",
            "55\n",
            "55\n"
          ]
        }
      ]
    },
    {
      "cell_type": "code",
      "source": [
        "#program to multiply the elemets in the list\n",
        "f=[1,2,3,4,5]\n",
        "mul=1\n",
        "for i in f:\n",
        "  mul=mul*i\n",
        "print(mul)\n",
        "#using numpy\n",
        "import numpy as np\n",
        "mul_np=np.prod(f)\n",
        "print(mul_np)"
      ],
      "metadata": {
        "colab": {
          "base_uri": "https://localhost:8080/"
        },
        "id": "H_Xw5B32ZAqf",
        "outputId": "c012475c-b02a-4ff0-af96-7229886bb1a7"
      },
      "execution_count": 7,
      "outputs": [
        {
          "output_type": "stream",
          "name": "stdout",
          "text": [
            "120\n",
            "120\n"
          ]
        }
      ]
    },
    {
      "cell_type": "code",
      "source": [
        "#smallest elements in the list\n",
        "g=[2,10,24,53,234,1,23]\n",
        "mini=g[0]\n",
        "for i in g:\n",
        "  if(mini>i):\n",
        "    mini=i\n",
        "print(mini)\n",
        "#using sort function\n",
        "g.sort()\n",
        "print(g[0])"
      ],
      "metadata": {
        "colab": {
          "base_uri": "https://localhost:8080/"
        },
        "id": "fGTfUIQ6abIO",
        "outputId": "538502b3-4f59-4e2f-c652-686291620a0b"
      },
      "execution_count": 8,
      "outputs": [
        {
          "output_type": "stream",
          "name": "stdout",
          "text": [
            "1\n",
            "1\n"
          ]
        }
      ]
    },
    {
      "cell_type": "code",
      "source": [
        "#finding largest number in the list\n",
        "k=[12,12,42,53,4,23,3]\n",
        "maxi=k[0]\n",
        "for m in k:\n",
        "  if(maxi<=m):\n",
        "    maxi=m\n",
        "print(maxi)\n",
        "print(max(k))\n",
        "k.sort()\n",
        "print(k[-1])"
      ],
      "metadata": {
        "colab": {
          "base_uri": "https://localhost:8080/"
        },
        "id": "0-msWQePmniX",
        "outputId": "3e9569c6-6435-4d1a-e06f-20afd4d00afb"
      },
      "execution_count": 9,
      "outputs": [
        {
          "output_type": "stream",
          "name": "stdout",
          "text": [
            "53\n",
            "53\n",
            "53\n"
          ]
        }
      ]
    },
    {
      "cell_type": "code",
      "source": [
        "#printing even elements in the list\n",
        "t=[22,23,44,13,43,53,66]\n",
        "for i in t:\n",
        "  if(i%2==0):\n",
        "    print(i,end=' ')"
      ],
      "metadata": {
        "colab": {
          "base_uri": "https://localhost:8080/"
        },
        "id": "89bA1t6mnwlo",
        "outputId": "bc8e4a9e-2e66-486f-be92-6ba8869304dd"
      },
      "execution_count": 10,
      "outputs": [
        {
          "output_type": "stream",
          "name": "stdout",
          "text": [
            "22 44 66 "
          ]
        }
      ]
    },
    {
      "cell_type": "code",
      "source": [
        "#printing the number of elements in a range\n",
        "start=7\n",
        "end=16\n",
        "for i in range(start,end+1):\n",
        "  if(i%2==0):\n",
        "    print(i,end=' ')"
      ],
      "metadata": {
        "colab": {
          "base_uri": "https://localhost:8080/"
        },
        "id": "aDaVDeU9owO5",
        "outputId": "4f764b5f-d93d-4f35-95fa-4b8fcb526957"
      },
      "execution_count": 11,
      "outputs": [
        {
          "output_type": "stream",
          "name": "stdout",
          "text": [
            "8 10 12 14 16 "
          ]
        }
      ]
    },
    {
      "cell_type": "code",
      "source": [
        "#printing positive and negative elements in the list\n",
        "u=[-3,4,2,-5,-8,9,34,-44]\n",
        "n=[]\n",
        "k=[]\n",
        "for i in u:\n",
        "  if(i>=0):\n",
        "    n.append(i)\n",
        "  else:\n",
        "    k.append(i)\n",
        "print(n)\n",
        "print(k)"
      ],
      "metadata": {
        "colab": {
          "base_uri": "https://localhost:8080/"
        },
        "id": "fODLAdCnpSC8",
        "outputId": "f5371991-2de5-4cef-8ac0-59fc881742e9"
      },
      "execution_count": 12,
      "outputs": [
        {
          "output_type": "stream",
          "name": "stdout",
          "text": [
            "[4, 2, 9, 34]\n",
            "[-3, -5, -8, -44]\n"
          ]
        }
      ]
    },
    {
      "cell_type": "code",
      "source": [
        "#removing the unwanted and specific elements in the list using different functions\n",
        "s=[12,23,43,53,33,4,3,6,8,9]\n",
        "del s[2:6]\n",
        "print(\"The new list is:\")\n",
        "print(s)"
      ],
      "metadata": {
        "colab": {
          "base_uri": "https://localhost:8080/"
        },
        "id": "IqkV9rXhrVLO",
        "outputId": "ea014429-33a3-49b2-bf09-8ac391c2663d"
      },
      "execution_count": 13,
      "outputs": [
        {
          "output_type": "stream",
          "name": "stdout",
          "text": [
            "The new list is:\n",
            "[12, 23, 3, 6, 8, 9]\n"
          ]
        }
      ]
    },
    {
      "cell_type": "code",
      "source": [
        "#removing empty list in the list\n",
        "p=[2,3,4,[],5,[],4]\n",
        "j=[]\n",
        "for i in p:\n",
        "  if(i!=[]):\n",
        "    j.append(i)\n",
        "print(p)\n",
        "print(j)"
      ],
      "metadata": {
        "colab": {
          "base_uri": "https://localhost:8080/"
        },
        "id": "Sm9vTorstda-",
        "outputId": "3008f4bc-3519-49f4-d67e-f2e423a165ae"
      },
      "execution_count": 14,
      "outputs": [
        {
          "output_type": "stream",
          "name": "stdout",
          "text": [
            "[2, 3, 4, [], 5, [], 4]\n",
            "[2, 3, 4, 5, 4]\n"
          ]
        }
      ]
    },
    {
      "cell_type": "code",
      "source": [
        "#counting the occurence of an element in a list\n",
        "h=[11,11,23,44,232,42,11,11]\n",
        "x=11\n",
        "count=0\n",
        "for i in h:\n",
        "  if(i==x):\n",
        "    count=count+1\n",
        "print(count)"
      ],
      "metadata": {
        "colab": {
          "base_uri": "https://localhost:8080/"
        },
        "id": "MUdrcH9wwNEA",
        "outputId": "97c4e89f-52ce-472c-cf6d-515e0a21196d"
      },
      "execution_count": 15,
      "outputs": [
        {
          "output_type": "stream",
          "name": "stdout",
          "text": [
            "4\n"
          ]
        }
      ]
    },
    {
      "cell_type": "code",
      "source": [
        "#sum of number digits in a list\n",
        "v=[12,13,44,23]\n",
        "result=[]\n",
        "for i in v:\n",
        "  sum=0\n",
        "  for j in str(i):\n",
        "    sum=sum+int(j)\n",
        "  result.append(sum)\n",
        "print(v)\n",
        "print(result)"
      ],
      "metadata": {
        "colab": {
          "base_uri": "https://localhost:8080/"
        },
        "id": "vn7fbvsLxFcw",
        "outputId": "f5050cdd-2fe2-48f9-8cf2-19c1e6d48da0"
      },
      "execution_count": 16,
      "outputs": [
        {
          "output_type": "stream",
          "name": "stdout",
          "text": [
            "[12, 13, 44, 23]\n",
            "[3, 4, 8, 5]\n"
          ]
        }
      ]
    },
    {
      "cell_type": "code",
      "source": [
        "#getting the square of the odd numbers using list comprehension\n",
        "z=[12,3,6,7,9]\n",
        "compre_list=[i*i for i in z if i%2!=0]\n",
        "print(compre_list)"
      ],
      "metadata": {
        "colab": {
          "base_uri": "https://localhost:8080/"
        },
        "id": "b16MIv7I1ZLS",
        "outputId": "eae43c21-c41e-4a17-9533-cf55620eb43b"
      },
      "execution_count": 17,
      "outputs": [
        {
          "output_type": "stream",
          "name": "stdout",
          "text": [
            "[9, 49, 81]\n"
          ]
        }
      ]
    },
    {
      "cell_type": "code",
      "source": [
        "#removing common elements from two lists\n",
        "o=[12,3,2,23,2,6]\n",
        "p=[12,3,2,23,2,5]\n",
        "for i in o[:]:\n",
        "  if i in p:\n",
        "    o.remove(i)\n",
        "    p.remove(i)\n",
        "print(o)\n",
        "print(p)"
      ],
      "metadata": {
        "colab": {
          "base_uri": "https://localhost:8080/"
        },
        "id": "s4M0g5LL2PzM",
        "outputId": "86fc83c7-e281-495e-860a-8bc7d4f71d4f"
      },
      "execution_count": 18,
      "outputs": [
        {
          "output_type": "stream",
          "name": "stdout",
          "text": [
            "[6]\n",
            "[5]\n"
          ]
        }
      ]
    }
  ]
}
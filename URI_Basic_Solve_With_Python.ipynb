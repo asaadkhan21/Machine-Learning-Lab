{
  "nbformat": 4,
  "nbformat_minor": 0,
  "metadata": {
    "colab": {
      "provenance": [],
      "collapsed_sections": [],
      "authorship_tag": "ABX9TyNDh7VjI8eE0bGe01wJad07",
      "include_colab_link": true
    },
    "kernelspec": {
      "name": "python3",
      "display_name": "Python 3"
    },
    "language_info": {
      "name": "python"
    }
  },
  "cells": [
    {
      "cell_type": "markdown",
      "metadata": {
        "id": "view-in-github",
        "colab_type": "text"
      },
      "source": [
        "<a href=\"https://colab.research.google.com/github/asaadkhan21/Machine_Learning_Lab/blob/main/URI_Basic_Solve_With_Python.ipynb\" target=\"_parent\"><img src=\"https://colab.research.google.com/assets/colab-badge.svg\" alt=\"Open In Colab\"/></a>"
      ]
    },
    {
      "cell_type": "code",
      "execution_count": null,
      "metadata": {
        "colab": {
          "base_uri": "https://localhost:8080/"
        },
        "id": "JxIJI83GPl3J",
        "outputId": "c4d49f58-4ad9-4b69-b571-09319037cd41"
      },
      "outputs": [
        {
          "output_type": "stream",
          "name": "stdout",
          "text": [
            "Hello World!\n"
          ]
        }
      ],
      "source": [
        "#1000\n",
        "print(\"Hello World!\")"
      ]
    },
    {
      "cell_type": "code",
      "source": [
        "#1001\n",
        "a=int(input())\n",
        "b=int(input())\n",
        "print(\"X =\", a+b)"
      ],
      "metadata": {
        "colab": {
          "base_uri": "https://localhost:8080/"
        },
        "id": "fxlcdI4NQBLk",
        "outputId": "92bcf6fa-62c9-4854-efc9-91dede5f3205"
      },
      "execution_count": null,
      "outputs": [
        {
          "output_type": "stream",
          "name": "stdout",
          "text": [
            "5\n",
            "6\n",
            "X = 11\n"
          ]
        }
      ]
    },
    {
      "cell_type": "code",
      "source": [
        "#1002\n",
        "raio = float(input())\n",
        "area = (raio * raio) * 3.14159 \n",
        "print(\"A=%0.4f\" %area)    "
      ],
      "metadata": {
        "colab": {
          "base_uri": "https://localhost:8080/"
        },
        "id": "NvFk-zXeSOo7",
        "outputId": "2bd0a4ec-d0ee-43b9-fda6-d7815bea251c"
      },
      "execution_count": null,
      "outputs": [
        {
          "output_type": "stream",
          "name": "stdout",
          "text": [
            "2.00\n",
            "A = 12.5664\n"
          ]
        }
      ]
    },
    {
      "cell_type": "code",
      "source": [
        "#1003\n",
        "a=int(input())\n",
        "b=int(input())\n",
        "print(\"SOMA =\", a+b)"
      ],
      "metadata": {
        "colab": {
          "base_uri": "https://localhost:8080/"
        },
        "id": "vH-sK0xoVVTl",
        "outputId": "0eef3ce3-f15b-44b9-e72a-3e23213bc982"
      },
      "execution_count": null,
      "outputs": [
        {
          "output_type": "stream",
          "name": "stdout",
          "text": [
            "10\n",
            "30\n",
            "SOMA = 40\n"
          ]
        }
      ]
    },
    {
      "cell_type": "code",
      "source": [
        "#1004\n",
        "a=int(input())\n",
        "b=int(input())\n",
        "print(\"PROD =\", a*b)"
      ],
      "metadata": {
        "colab": {
          "base_uri": "https://localhost:8080/"
        },
        "id": "EBAo7mYSVsQC",
        "outputId": "415ed0d2-07e9-48ad-b6ad-447d6145838a"
      },
      "execution_count": null,
      "outputs": [
        {
          "output_type": "stream",
          "name": "stdout",
          "text": [
            "9\n",
            "3\n",
            "PROD = 27\n"
          ]
        }
      ]
    },
    {
      "cell_type": "code",
      "source": [
        "#1005\n",
        "a = float(input())\n",
        "b =float(input())\n",
        "avearage=((a*3.5)+(b*7.5)/11)\n",
        "print(\"MEDIA = %0.5f\" %avearage)    "
      ],
      "metadata": {
        "colab": {
          "base_uri": "https://localhost:8080/"
        },
        "id": "lObM9A3mWN-8",
        "outputId": "e6fccd98-61ef-47b0-f881-e28403259237"
      },
      "execution_count": null,
      "outputs": [
        {
          "output_type": "stream",
          "name": "stdout",
          "text": [
            "0.0\n",
            "7.1\n",
            "MEDIA = 4.84091\n"
          ]
        }
      ]
    }
  ]
}
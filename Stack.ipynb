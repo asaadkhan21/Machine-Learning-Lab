{
  "nbformat": 4,
  "nbformat_minor": 0,
  "metadata": {
    "colab": {
      "provenance": [],
      "authorship_tag": "ABX9TyMPmUgITqVHSr1ySjepZrQB",
      "include_colab_link": true
    },
    "kernelspec": {
      "name": "python3",
      "display_name": "Python 3"
    },
    "language_info": {
      "name": "python"
    }
  },
  "cells": [
    {
      "cell_type": "markdown",
      "metadata": {
        "id": "view-in-github",
        "colab_type": "text"
      },
      "source": [
        "<a href=\"https://colab.research.google.com/github/asaadkhan21/Machine_Learning_With_Python/blob/main/Stack.ipynb\" target=\"_parent\"><img src=\"https://colab.research.google.com/assets/colab-badge.svg\" alt=\"Open In Colab\"/></a>"
      ]
    },
    {
      "cell_type": "code",
      "execution_count": 13,
      "metadata": {
        "colab": {
          "base_uri": "https://localhost:8080/"
        },
        "id": "pc9_soaGUFL7",
        "outputId": "950d7255-fcf1-4ab1-9cef-7232fe2f05b9"
      },
      "outputs": [
        {
          "name": "stdout",
          "output_type": "stream",
          "text": [
            "Limit of the Stack: 5\n",
            "Select operation to perform: 1.push 2. pop 3. Quit\n",
            "1\n",
            "\n",
            " Enter element: 6\n",
            "['6']\n",
            "Select operation to perform: 1.push 2. pop 3. Quit\n",
            "2\n",
            "Removed element:  6\n",
            "[]\n",
            "Select operation to perform: 1.push 2. pop 3. Quit\n",
            "2\n",
            "Stack is empty\n",
            "Select operation to perform: 1.push 2. pop 3. Quit\n",
            "3\n"
          ]
        }
      ],
      "source": [
        "stack=[]\n",
        "def push():\n",
        "  if len(stack)==n:\n",
        "    print(\"Stack is full\")\n",
        "  else:\n",
        "    element=input(\"\\n Enter element: \")\n",
        "    stack.append(element)\n",
        "    print(stack)\n",
        "def pop_element():\n",
        "  if not stack:\n",
        "    print(\"Stack is empty\")\n",
        "  else:\n",
        "    e=stack.pop()\n",
        "    print(\"Removed element: \",e)\n",
        "    print(stack)\n",
        "n=int(input(\"Limit of the Stack: \"))\n",
        "while True:\n",
        "  print(\"Select operation to perform: 1.push 2. pop 3. Quit\")\n",
        "  choice=int(input())\n",
        "  if choice==1:\n",
        "    push()\n",
        "  elif choice==2:\n",
        "    pop_element()\n",
        "  elif choice==3:\n",
        "    break\n",
        "  else:\n",
        "    print(\"Enter correct operation\")\n",
        "  \n",
        "\n",
        "\n",
        "\n"
      ]
    }
  ]
}